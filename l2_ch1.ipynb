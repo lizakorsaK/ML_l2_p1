{
 "cells": [
  {
   "cell_type": "code",
   "execution_count": 1,
   "metadata": {},
   "outputs": [],
   "source": [
    "import numpy as np\n",
    "import pandas as pd \n",
    "\n",
    "import matplotlib.pyplot as plt\n",
    "from scipy.stats import multivariate_normal"
   ]
  },
  {
   "cell_type": "markdown",
   "metadata": {},
   "source": [
    "Задание 1"
   ]
  },
  {
   "cell_type": "code",
   "execution_count": 2,
   "metadata": {},
   "outputs": [
    {
     "data": {
      "text/html": [
       "<div>\n",
       "<style scoped>\n",
       "    .dataframe tbody tr th:only-of-type {\n",
       "        vertical-align: middle;\n",
       "    }\n",
       "\n",
       "    .dataframe tbody tr th {\n",
       "        vertical-align: top;\n",
       "    }\n",
       "\n",
       "    .dataframe thead th {\n",
       "        text-align: right;\n",
       "    }\n",
       "</style>\n",
       "<table border=\"1\" class=\"dataframe\">\n",
       "  <thead>\n",
       "    <tr style=\"text-align: right;\">\n",
       "      <th></th>\n",
       "      <th>sex</th>\n",
       "      <th>weight</th>\n",
       "      <th>height</th>\n",
       "      <th>repwt</th>\n",
       "      <th>repht</th>\n",
       "    </tr>\n",
       "  </thead>\n",
       "  <tbody>\n",
       "    <tr>\n",
       "      <th>1</th>\n",
       "      <td>M</td>\n",
       "      <td>77</td>\n",
       "      <td>182</td>\n",
       "      <td>77.0</td>\n",
       "      <td>180.0</td>\n",
       "    </tr>\n",
       "    <tr>\n",
       "      <th>2</th>\n",
       "      <td>F</td>\n",
       "      <td>58</td>\n",
       "      <td>161</td>\n",
       "      <td>51.0</td>\n",
       "      <td>159.0</td>\n",
       "    </tr>\n",
       "    <tr>\n",
       "      <th>3</th>\n",
       "      <td>F</td>\n",
       "      <td>53</td>\n",
       "      <td>161</td>\n",
       "      <td>54.0</td>\n",
       "      <td>158.0</td>\n",
       "    </tr>\n",
       "    <tr>\n",
       "      <th>4</th>\n",
       "      <td>M</td>\n",
       "      <td>68</td>\n",
       "      <td>177</td>\n",
       "      <td>70.0</td>\n",
       "      <td>175.0</td>\n",
       "    </tr>\n",
       "    <tr>\n",
       "      <th>5</th>\n",
       "      <td>F</td>\n",
       "      <td>59</td>\n",
       "      <td>157</td>\n",
       "      <td>59.0</td>\n",
       "      <td>155.0</td>\n",
       "    </tr>\n",
       "    <tr>\n",
       "      <th>...</th>\n",
       "      <td>...</td>\n",
       "      <td>...</td>\n",
       "      <td>...</td>\n",
       "      <td>...</td>\n",
       "      <td>...</td>\n",
       "    </tr>\n",
       "    <tr>\n",
       "      <th>196</th>\n",
       "      <td>M</td>\n",
       "      <td>74</td>\n",
       "      <td>175</td>\n",
       "      <td>71.0</td>\n",
       "      <td>175.0</td>\n",
       "    </tr>\n",
       "    <tr>\n",
       "      <th>197</th>\n",
       "      <td>M</td>\n",
       "      <td>83</td>\n",
       "      <td>180</td>\n",
       "      <td>80.0</td>\n",
       "      <td>180.0</td>\n",
       "    </tr>\n",
       "    <tr>\n",
       "      <th>198</th>\n",
       "      <td>M</td>\n",
       "      <td>81</td>\n",
       "      <td>175</td>\n",
       "      <td>NaN</td>\n",
       "      <td>NaN</td>\n",
       "    </tr>\n",
       "    <tr>\n",
       "      <th>199</th>\n",
       "      <td>M</td>\n",
       "      <td>90</td>\n",
       "      <td>181</td>\n",
       "      <td>91.0</td>\n",
       "      <td>178.0</td>\n",
       "    </tr>\n",
       "    <tr>\n",
       "      <th>200</th>\n",
       "      <td>M</td>\n",
       "      <td>79</td>\n",
       "      <td>177</td>\n",
       "      <td>81.0</td>\n",
       "      <td>178.0</td>\n",
       "    </tr>\n",
       "  </tbody>\n",
       "</table>\n",
       "<p>200 rows × 5 columns</p>\n",
       "</div>"
      ],
      "text/plain": [
       "    sex  weight  height  repwt  repht\n",
       "1     M      77     182   77.0  180.0\n",
       "2     F      58     161   51.0  159.0\n",
       "3     F      53     161   54.0  158.0\n",
       "4     M      68     177   70.0  175.0\n",
       "5     F      59     157   59.0  155.0\n",
       "..   ..     ...     ...    ...    ...\n",
       "196   M      74     175   71.0  175.0\n",
       "197   M      83     180   80.0  180.0\n",
       "198   M      81     175    NaN    NaN\n",
       "199   M      90     181   91.0  178.0\n",
       "200   M      79     177   81.0  178.0\n",
       "\n",
       "[200 rows x 5 columns]"
      ]
     },
     "execution_count": 2,
     "metadata": {},
     "output_type": "execute_result"
    }
   ],
   "source": [
    "df = pd.read_csv('C:/Davis.csv',index_col=[0])\n",
    "df"
   ]
  },
  {
   "cell_type": "markdown",
   "metadata": {},
   "source": [
    "a) Разделите датасет на 2 выборки (train, test) из 100 человек, с сохранением пропорции полов"
   ]
  },
  {
   "cell_type": "code",
   "execution_count": 3,
   "metadata": {},
   "outputs": [],
   "source": [
    "from sklearn.model_selection import train_test_split\n",
    "df_x = df.drop(\"sex\",axis='columns')\n",
    "df_y = df.sex\n",
    "X_train, X_test, y_train, y_test = train_test_split(df_x, df_y,\n",
    "                                                    test_size=0.5,random_state=25, \n",
    "                                                    stratify = df_y)"
   ]
  },
  {
   "cell_type": "code",
   "execution_count": 4,
   "metadata": {},
   "outputs": [
    {
     "data": {
      "text/html": [
       "<div>\n",
       "<style scoped>\n",
       "    .dataframe tbody tr th:only-of-type {\n",
       "        vertical-align: middle;\n",
       "    }\n",
       "\n",
       "    .dataframe tbody tr th {\n",
       "        vertical-align: top;\n",
       "    }\n",
       "\n",
       "    .dataframe thead th {\n",
       "        text-align: right;\n",
       "    }\n",
       "</style>\n",
       "<table border=\"1\" class=\"dataframe\">\n",
       "  <thead>\n",
       "    <tr style=\"text-align: right;\">\n",
       "      <th></th>\n",
       "      <th>weight</th>\n",
       "      <th>height</th>\n",
       "      <th>repwt</th>\n",
       "      <th>repht</th>\n",
       "    </tr>\n",
       "  </thead>\n",
       "  <tbody>\n",
       "    <tr>\n",
       "      <th>1</th>\n",
       "      <td>77</td>\n",
       "      <td>182</td>\n",
       "      <td>77.0</td>\n",
       "      <td>180.0</td>\n",
       "    </tr>\n",
       "    <tr>\n",
       "      <th>2</th>\n",
       "      <td>58</td>\n",
       "      <td>161</td>\n",
       "      <td>51.0</td>\n",
       "      <td>159.0</td>\n",
       "    </tr>\n",
       "    <tr>\n",
       "      <th>3</th>\n",
       "      <td>53</td>\n",
       "      <td>161</td>\n",
       "      <td>54.0</td>\n",
       "      <td>158.0</td>\n",
       "    </tr>\n",
       "    <tr>\n",
       "      <th>4</th>\n",
       "      <td>68</td>\n",
       "      <td>177</td>\n",
       "      <td>70.0</td>\n",
       "      <td>175.0</td>\n",
       "    </tr>\n",
       "    <tr>\n",
       "      <th>5</th>\n",
       "      <td>59</td>\n",
       "      <td>157</td>\n",
       "      <td>59.0</td>\n",
       "      <td>155.0</td>\n",
       "    </tr>\n",
       "    <tr>\n",
       "      <th>...</th>\n",
       "      <td>...</td>\n",
       "      <td>...</td>\n",
       "      <td>...</td>\n",
       "      <td>...</td>\n",
       "    </tr>\n",
       "    <tr>\n",
       "      <th>196</th>\n",
       "      <td>74</td>\n",
       "      <td>175</td>\n",
       "      <td>71.0</td>\n",
       "      <td>175.0</td>\n",
       "    </tr>\n",
       "    <tr>\n",
       "      <th>197</th>\n",
       "      <td>83</td>\n",
       "      <td>180</td>\n",
       "      <td>80.0</td>\n",
       "      <td>180.0</td>\n",
       "    </tr>\n",
       "    <tr>\n",
       "      <th>198</th>\n",
       "      <td>81</td>\n",
       "      <td>175</td>\n",
       "      <td>NaN</td>\n",
       "      <td>NaN</td>\n",
       "    </tr>\n",
       "    <tr>\n",
       "      <th>199</th>\n",
       "      <td>90</td>\n",
       "      <td>181</td>\n",
       "      <td>91.0</td>\n",
       "      <td>178.0</td>\n",
       "    </tr>\n",
       "    <tr>\n",
       "      <th>200</th>\n",
       "      <td>79</td>\n",
       "      <td>177</td>\n",
       "      <td>81.0</td>\n",
       "      <td>178.0</td>\n",
       "    </tr>\n",
       "  </tbody>\n",
       "</table>\n",
       "<p>200 rows × 4 columns</p>\n",
       "</div>"
      ],
      "text/plain": [
       "     weight  height  repwt  repht\n",
       "1        77     182   77.0  180.0\n",
       "2        58     161   51.0  159.0\n",
       "3        53     161   54.0  158.0\n",
       "4        68     177   70.0  175.0\n",
       "5        59     157   59.0  155.0\n",
       "..      ...     ...    ...    ...\n",
       "196      74     175   71.0  175.0\n",
       "197      83     180   80.0  180.0\n",
       "198      81     175    NaN    NaN\n",
       "199      90     181   91.0  178.0\n",
       "200      79     177   81.0  178.0\n",
       "\n",
       "[200 rows x 4 columns]"
      ]
     },
     "execution_count": 4,
     "metadata": {},
     "output_type": "execute_result"
    }
   ],
   "source": [
    "df_x"
   ]
  },
  {
   "cell_type": "markdown",
   "metadata": {},
   "source": [
    "б) Очистите выборки от выбросов - людей с нереалистичным ростом/весом"
   ]
  },
  {
   "cell_type": "markdown",
   "metadata": {},
   "source": [
    "*Если надо именно так - хорошо...*"
   ]
  },
  {
   "cell_type": "code",
   "execution_count": 5,
   "metadata": {},
   "outputs": [],
   "source": [
    "def drop_incorrect(df):\n",
    "    df = df.loc[df['weight'] > 40]\n",
    "    df = df.loc[df['weight'] < 110] #На 120 есть небольшой выброс, он всё портит(\n",
    "    df = df.loc[df['height'] > 140]\n",
    "    df = df.loc[df['height'] < 200]\n",
    "    \n",
    "    df = df.dropna(axis='index', how='any')\n",
    "    df = df.reset_index(drop=True)\n",
    "    return df"
   ]
  },
  {
   "cell_type": "code",
   "execution_count": 6,
   "metadata": {},
   "outputs": [],
   "source": [
    "def modify_split(x,y):\n",
    "    df_temp = pd.concat([x,y],axis=1)\n",
    "    df_temp = drop_incorrect(df_temp)\n",
    "    return x,y\n",
    "\n",
    "X_train,y_train = modify_split(X_train,y_train)\n",
    "X_test, y_test = modify_split(X_test, y_test)"
   ]
  },
  {
   "cell_type": "markdown",
   "metadata": {},
   "source": [
    "*...но, вообще, нормальные люди сначала обрабатывают датасет, а потом разделяют данные перед обучением*"
   ]
  },
  {
   "cell_type": "code",
   "execution_count": 7,
   "metadata": {},
   "outputs": [],
   "source": [
    "df = drop_incorrect(df)"
   ]
  },
  {
   "cell_type": "code",
   "execution_count": 8,
   "metadata": {},
   "outputs": [],
   "source": [
    "df_x = df.drop(\"sex\",axis='columns')\n",
    "df_y = df.sex\n",
    "X_train, X_test, y_train, y_test = train_test_split(df_x, df_y,train_size=0.5,\n",
    "                                                    test_size=0.5,random_state=25, \n",
    "                                                    stratify = df_y)"
   ]
  },
  {
   "cell_type": "markdown",
   "metadata": {},
   "source": [
    "в) Отобразите train-выборку на в виде точек на графике"
   ]
  },
  {
   "cell_type": "code",
   "execution_count": 9,
   "metadata": {},
   "outputs": [
    {
     "data": {
      "text/plain": [
       "<matplotlib.axes._subplots.AxesSubplot at 0x158fbc62100>"
      ]
     },
     "execution_count": 9,
     "metadata": {},
     "output_type": "execute_result"
    },
    {
     "data": {
      "image/png": "[encoded data removed]",
      "text/plain": [
       "<Figure size 432x288 with 1 Axes>"
      ]
     },
     "metadata": {
      "needs_background": "light"
     },
     "output_type": "display_data"
    }
   ],
   "source": [
    "colors = np.where(y_train == 'M', 'blue', 'red')\n",
    "X_train.plot(x='height', y='weight', kind='scatter',c=colors)"
   ]
  },
  {
   "cell_type": "markdown",
   "metadata": {},
   "source": [
    "г) Постройте гистограммы:\n",
    "\n",
    "* Роста и веса (в целом, только женщины, только мужчины)  \n",
    "В целом:"
   ]
  },
  {
   "cell_type": "code",
   "execution_count": 10,
   "metadata": {},
   "outputs": [
    {
     "data": {
      "text/plain": [
       "<matplotlib.axes._subplots.AxesSubplot at 0x158fbd0ec70>"
      ]
     },
     "execution_count": 10,
     "metadata": {},
     "output_type": "execute_result"
    },
    {
     "data": {
      "image/png": "[encoded data removed]",
      "text/plain": [
       "<Figure size 432x288 with 1 Axes>"
      ]
     },
     "metadata": {
      "needs_background": "light"
     },
     "output_type": "display_data"
    }
   ],
   "source": [
    "df.plot(x='height', y='weight', kind='scatter')"
   ]
  },
  {
   "cell_type": "markdown",
   "metadata": {},
   "source": [
    "Только женщины:"
   ]
  },
  {
   "cell_type": "code",
   "execution_count": 11,
   "metadata": {},
   "outputs": [
    {
     "data": {
      "text/plain": [
       "<matplotlib.axes._subplots.AxesSubplot at 0x158fbd89f10>"
      ]
     },
     "execution_count": 11,
     "metadata": {},
     "output_type": "execute_result"
    },
    {
     "data": {
      "image/png": "[encoded data removed]",
      "text/plain": [
       "<Figure size 432x288 with 1 Axes>"
      ]
     },
     "metadata": {
      "needs_background": "light"
     },
     "output_type": "display_data"
    }
   ],
   "source": [
    "df1 = df.loc[df['sex'] == 'F']\n",
    "df1.plot(x='height', y='weight', kind='scatter')"
   ]
  },
  {
   "cell_type": "markdown",
   "metadata": {},
   "source": [
    "Только мужчины:"
   ]
  },
  {
   "cell_type": "code",
   "execution_count": 12,
   "metadata": {},
   "outputs": [
    {
     "data": {
      "text/plain": [
       "<matplotlib.axes._subplots.AxesSubplot at 0x158fbddca30>"
      ]
     },
     "execution_count": 12,
     "metadata": {},
     "output_type": "execute_result"
    },
    {
     "data": {
      "image/png": "[encoded data removed]",
      "text/plain": [
       "<Figure size 432x288 with 1 Axes>"
      ]
     },
     "metadata": {
      "needs_background": "light"
     },
     "output_type": "display_data"
    }
   ],
   "source": [
    "df1 = df.loc[df['sex'] == 'M']\n",
    "df1.plot(x='height', y='weight', kind='scatter')"
   ]
  },
  {
   "cell_type": "markdown",
   "metadata": {},
   "source": [
    "* Величины (repwt - weight) (в целом, только женщины, только мужчины)  \n",
    "В целом:"
   ]
  },
  {
   "cell_type": "code",
   "execution_count": 13,
   "metadata": {},
   "outputs": [
    {
     "data": {
      "text/plain": [
       "<matplotlib.axes._subplots.AxesSubplot at 0x158fbe324f0>"
      ]
     },
     "execution_count": 13,
     "metadata": {},
     "output_type": "execute_result"
    },
    {
     "data": {
      "image/png": "[encoded data removed]",
      "text/plain": [
       "<Figure size 432x288 with 1 Axes>"
      ]
     },
     "metadata": {
      "needs_background": "light"
     },
     "output_type": "display_data"
    }
   ],
   "source": [
    "df.plot(x='repwt', y='weight', kind='scatter')"
   ]
  },
  {
   "cell_type": "markdown",
   "metadata": {},
   "source": [
    "Только женщины:"
   ]
  },
  {
   "cell_type": "code",
   "execution_count": 14,
   "metadata": {},
   "outputs": [
    {
     "data": {
      "text/plain": [
       "<matplotlib.axes._subplots.AxesSubplot at 0x158fbe1c220>"
      ]
     },
     "execution_count": 14,
     "metadata": {},
     "output_type": "execute_result"
    },
    {
     "data": {
      "image/png": "[encoded data removed]",
      "text/plain": [
       "<Figure size 432x288 with 1 Axes>"
      ]
     },
     "metadata": {
      "needs_background": "light"
     },
     "output_type": "display_data"
    }
   ],
   "source": [
    "df1 = df.loc[df['sex'] == 'F']\n",
    "df1.plot(x='repwt', y='weight', kind='scatter')"
   ]
  },
  {
   "cell_type": "markdown",
   "metadata": {},
   "source": [
    "Только мужчины:"
   ]
  },
  {
   "cell_type": "code",
   "execution_count": 15,
   "metadata": {},
   "outputs": [
    {
     "data": {
      "text/plain": [
       "<matplotlib.axes._subplots.AxesSubplot at 0x158fbeded60>"
      ]
     },
     "execution_count": 15,
     "metadata": {},
     "output_type": "execute_result"
    },
    {
     "data": {
      "image/png": "[encoded data removed]",
      "text/plain": [
       "<Figure size 432x288 with 1 Axes>"
      ]
     },
     "metadata": {
      "needs_background": "light"
     },
     "output_type": "display_data"
    }
   ],
   "source": [
    "df1 = df.loc[df['sex'] == 'M']\n",
    "df1.plot(x='repwt', y='weight', kind='scatter')"
   ]
  },
  {
   "cell_type": "markdown",
   "metadata": {},
   "source": [
    "* Величины (repht - height) (в целом, только женщины, только мужчины)  \n",
    "В целом:"
   ]
  },
  {
   "cell_type": "code",
   "execution_count": 16,
   "metadata": {},
   "outputs": [
    {
     "data": {
      "text/plain": [
       "<matplotlib.axes._subplots.AxesSubplot at 0x158fbf322b0>"
      ]
     },
     "execution_count": 16,
     "metadata": {},
     "output_type": "execute_result"
    },
    {
     "data": {
      "image/png": "[encoded data removed]",
      "text/plain": [
       "<Figure size 432x288 with 1 Axes>"
      ]
     },
     "metadata": {
      "needs_background": "light"
     },
     "output_type": "display_data"
    }
   ],
   "source": [
    "df.plot(x='repht', y='height', kind='scatter')"
   ]
  },
  {
   "cell_type": "markdown",
   "metadata": {},
   "source": [
    "Только женщины:"
   ]
  },
  {
   "cell_type": "code",
   "execution_count": 17,
   "metadata": {},
   "outputs": [
    {
     "data": {
      "text/plain": [
       "<matplotlib.axes._subplots.AxesSubplot at 0x158fbf69f10>"
      ]
     },
     "execution_count": 17,
     "metadata": {},
     "output_type": "execute_result"
    },
    {
     "data": {
      "image/png": "[encoded data removed]",
      "text/plain": [
       "<Figure size 432x288 with 1 Axes>"
      ]
     },
     "metadata": {
      "needs_background": "light"
     },
     "output_type": "display_data"
    }
   ],
   "source": [
    "df1 = df.loc[df['sex'] == 'F']\n",
    "df1.plot(x='repht', y='height', kind='scatter')"
   ]
  },
  {
   "cell_type": "markdown",
   "metadata": {},
   "source": [
    "Только мужчины:"
   ]
  },
  {
   "cell_type": "code",
   "execution_count": 18,
   "metadata": {},
   "outputs": [
    {
     "data": {
      "text/plain": [
       "<matplotlib.axes._subplots.AxesSubplot at 0x158fbfd8d60>"
      ]
     },
     "execution_count": 18,
     "metadata": {},
     "output_type": "execute_result"
    },
    {
     "data": {
      "image/png": "[encoded data removed]",
      "text/plain": [
       "<Figure size 432x288 with 1 Axes>"
      ]
     },
     "metadata": {
      "needs_background": "light"
     },
     "output_type": "display_data"
    }
   ],
   "source": [
    "df1 = df.loc[df['sex'] == 'M']\n",
    "df1.plot(x='repht', y='height', kind='scatter')"
   ]
  },
  {
   "cell_type": "markdown",
   "metadata": {},
   "source": [
    "**д) Постройте генератор данных**"
   ]
  },
  {
   "cell_type": "code",
   "execution_count": 19,
   "metadata": {},
   "outputs": [],
   "source": [
    "def fit(train_df):\n",
    "    mean = []\n",
    "    cov = []\n",
    "    for item in gender:\n",
    "        data = train_df.loc[train_df.sex == item]\n",
    "        hm = data.height - np.mean(data.height)\n",
    "        wm = data.weight - np.mean(data.weight)\n",
    "\n",
    "        cov_h = np.var(hm)\n",
    "        cov_w = np.var(wm)\n",
    "        cov_wh = np.mean(hm*wm)\n",
    "\n",
    "        mean.append([np.mean(data.height), np.mean(data.weight)])\n",
    "        cov.append([[cov_h, cov_wh], [cov_wh, cov_w]])\n",
    "        \n",
    "    return mean, cov"
   ]
  },
  {
   "cell_type": "code",
   "execution_count": 20,
   "metadata": {},
   "outputs": [],
   "source": [
    "def generate_points(params, num_points):\n",
    "    x = []\n",
    "    y = []\n",
    "    for item in probabilities:\n",
    "        if item == 'M':\n",
    "            mean = params[0][0]\n",
    "            cov = params[1][0]\n",
    "        else:\n",
    "            mean = params[0][1]\n",
    "            cov = params[1][1]\n",
    "        point = np.random.multivariate_normal(mean, cov, 1).T\n",
    "        x.append(point[0])\n",
    "        y.append(point[1])\n",
    "    return x,y"
   ]
  },
  {
   "cell_type": "code",
   "execution_count": 21,
   "metadata": {},
   "outputs": [],
   "source": [
    "def likelihood(X, prob,params):\n",
    "    pd_prob = pd.DataFrame(data={'x': X[0], 'y': X[1], 'sex':prob, 'normal':0, 'log':0})\n",
    "    \n",
    "    df_man = pd_prob.loc[pd_prob['sex'] == 'M'].copy()\n",
    "    mean = params[0][0]\n",
    "    cov=params[1][0]\n",
    "    probability = 1-prob_woman\n",
    "    mens = df_man.drop(columns=[\"sex\",\"normal\",\"log\"],axis='columns')\n",
    "    pravd = multivariate_normal.pdf(mens, mean=mean, cov=cov) * probability\n",
    "    df_man['normal']=pravd\n",
    "    df_man['log']=np.log(pravd)\n",
    "   \n",
    "\n",
    "    df_fem = pd_prob.loc[pd_prob['sex'] == 'F'].copy()\n",
    "    mean = params[0][1]\n",
    "    cov=params[1][1]\n",
    "    probability = prob_woman\n",
    "    fem = df_fem.drop(columns=[\"sex\",\"normal\",\"log\"],axis='columns')\n",
    "    pravd = multivariate_normal.pdf(fem, mean=mean, cov=cov) * probability\n",
    "    df_fem['normal']=pravd\n",
    "    df_fem['log']=np.log(pravd)\n",
    "    \n",
    "    res = pd.concat([df_man,df_fem])\n",
    "    print(\"log по убыванию:\")\n",
    "    print(res.sort_values(\"log\",ascending=True).head(10))\n",
    "    \n",
    "    print(\"И возрастанию: \")\n",
    "    print(res.sort_values(\"log\",ascending=False).head(10))\n",
    "    \n",
    "    print(\"Log mean = \",np.mean(res.log))\n",
    "    return"
   ]
  },
  {
   "cell_type": "code",
   "execution_count": 22,
   "metadata": {},
   "outputs": [],
   "source": [
    "gender = [\"M\",\"F\"]\n",
    "train,test = train_test_split(df,test_size=0.5,random_state=25)\n",
    "params = fit(train)"
   ]
  },
  {
   "cell_type": "code",
   "execution_count": 23,
   "metadata": {},
   "outputs": [],
   "source": [
    "num_points = 1000"
   ]
  },
  {
   "cell_type": "code",
   "execution_count": 24,
   "metadata": {},
   "outputs": [
    {
     "name": "stdout",
     "output_type": "stream",
     "text": [
      "Probabilities M&F =  0.4550561797752809  and  0.5449438202247191\n"
     ]
    }
   ],
   "source": [
    "prob_woman = len(df.loc[df['sex'] == 'F'])/len(df['sex'])\n",
    "probabilities = np.random.choice(gender, num_points, p = [prob_woman,1-prob_woman])\n",
    "print(\"Probabilities M&F = \",1 - prob_woman,\" and \",prob_woman)"
   ]
  },
  {
   "cell_type": "code",
   "execution_count": 25,
   "metadata": {},
   "outputs": [
    {
     "data": {
      "image/png": "[encoded data removed]",
      "text/plain": [
       "<Figure size 432x288 with 1 Axes>"
      ]
     },
     "metadata": {
      "needs_background": "light"
     },
     "output_type": "display_data"
    }
   ],
   "source": [
    "points = generate_points(params,num_points)\n",
    "\n",
    "plt.plot(points[0],points[1],'o')\n",
    "plt.plot(test.height,test.weight,'*')\n",
    "plt.show()"
   ]
  },
  {
   "cell_type": "code",
   "execution_count": 26,
   "metadata": {},
   "outputs": [
    {
     "name": "stdout",
     "output_type": "stream",
     "text": [
      "log по убыванию:\n",
      "                        x                     y sex        normal        log\n",
      "930   [189.7319625335748]   [77.36691627419681]   F  9.344865e-08 -16.185854\n",
      "754   [202.9548973329625]  [118.26240624788521]   M  4.916133e-07 -14.525574\n",
      "724  [192.89442393195134]  [119.35785862520757]   M  2.172750e-06 -13.039517\n",
      "360  [191.56144015711772]    [117.745199811285]   M  3.489812e-06 -12.565663\n",
      "389  [181.57859873814715]   [80.78636780128588]   F  3.740351e-06 -12.496331\n",
      "630  [160.53683151232462]   [44.71535632350102]   M  6.284233e-06 -11.977467\n",
      "320   [179.1199426448363]  [52.961209604450985]   F  6.733371e-06 -11.908435\n",
      "986  [174.15899920146592]   [81.17389346648248]   F  9.268340e-06 -11.588906\n",
      "741   [169.5408651881717]    [94.1153401655662]   M  1.005558e-05 -11.507383\n",
      "744  [171.96956973115851]    [97.9904770772216]   M  1.038954e-05 -11.474711\n",
      "И возрастанию: \n",
      "                        x                     y sex    normal       log\n",
      "302  [165.39662406219873]  [57.865777459744045]   F  0.002669 -5.926018\n",
      "100  [165.00742453701716]   [57.30636048813595]   F  0.002667 -5.926722\n",
      "470  [165.41735694494045]  [57.979457704586046]   F  0.002667 -5.926769\n",
      "730  [165.41992404144176]   [57.30820189096357]   F  0.002665 -5.927721\n",
      "14   [165.09100787920687]   [56.93134361789691]   F  0.002658 -5.930004\n",
      "69   [165.30427555635936]  [58.222969827709164]   F  0.002657 -5.930466\n",
      "607  [165.08511398433933]   [58.08137511928718]   F  0.002655 -5.931209\n",
      "373   [165.8174009022822]   [58.60040577579246]   F  0.002643 -5.935877\n",
      "649   [165.0505726074862]   [58.27710125001194]   F  0.002643 -5.935895\n",
      "769  [165.33631297095982]   [56.74007361243665]   F  0.002641 -5.936655\n",
      "Log mean =  -7.342610820507722\n"
     ]
    }
   ],
   "source": [
    "likelihood(points,probabilities,params)"
   ]
  },
  {
   "cell_type": "markdown",
   "metadata": {},
   "source": [
    "**Задание 2**"
   ]
  },
  {
   "cell_type": "code",
   "execution_count": 27,
   "metadata": {},
   "outputs": [],
   "source": [
    "w_x = df.weight.values.reshape(-1,1)\n",
    "h_x = df.height.values.reshape(-1,1)"
   ]
  },
  {
   "cell_type": "code",
   "execution_count": 28,
   "metadata": {},
   "outputs": [
    {
     "name": "stdout",
     "output_type": "stream",
     "text": [
      "[-124.46844348]\n",
      "[[1.11276092]]\n"
     ]
    }
   ],
   "source": [
    "from sklearn.linear_model import LinearRegression\n",
    "\n",
    "regressor = LinearRegression()  \n",
    "regressor.fit(h_x, w_x)\n",
    "print(regressor.intercept_)\n",
    "print(regressor.coef_)"
   ]
  },
  {
   "cell_type": "code",
   "execution_count": 29,
   "metadata": {},
   "outputs": [],
   "source": [
    "w0 = regressor.coef_[0]\n",
    "w1 = regressor.intercept_\n",
    "\n",
    "y_ = w0*df.height + w1"
   ]
  },
  {
   "cell_type": "code",
   "execution_count": 30,
   "metadata": {},
   "outputs": [
    {
     "data": {
      "text/html": [
       "<div>\n",
       "<style scoped>\n",
       "    .dataframe tbody tr th:only-of-type {\n",
       "        vertical-align: middle;\n",
       "    }\n",
       "\n",
       "    .dataframe tbody tr th {\n",
       "        vertical-align: top;\n",
       "    }\n",
       "\n",
       "    .dataframe thead th {\n",
       "        text-align: right;\n",
       "    }\n",
       "</style>\n",
       "<table border=\"1\" class=\"dataframe\">\n",
       "  <thead>\n",
       "    <tr style=\"text-align: right;\">\n",
       "      <th></th>\n",
       "      <th>from df</th>\n",
       "      <th>linear</th>\n",
       "      <th>difference</th>\n",
       "    </tr>\n",
       "  </thead>\n",
       "  <tbody>\n",
       "    <tr>\n",
       "      <th>0</th>\n",
       "      <td>77</td>\n",
       "      <td>78.054044</td>\n",
       "      <td>1.054044</td>\n",
       "    </tr>\n",
       "    <tr>\n",
       "      <th>1</th>\n",
       "      <td>58</td>\n",
       "      <td>54.686064</td>\n",
       "      <td>-3.313936</td>\n",
       "    </tr>\n",
       "    <tr>\n",
       "      <th>2</th>\n",
       "      <td>53</td>\n",
       "      <td>54.686064</td>\n",
       "      <td>1.686064</td>\n",
       "    </tr>\n",
       "    <tr>\n",
       "      <th>3</th>\n",
       "      <td>68</td>\n",
       "      <td>72.490239</td>\n",
       "      <td>4.490239</td>\n",
       "    </tr>\n",
       "    <tr>\n",
       "      <th>4</th>\n",
       "      <td>59</td>\n",
       "      <td>50.235021</td>\n",
       "      <td>-8.764979</td>\n",
       "    </tr>\n",
       "  </tbody>\n",
       "</table>\n",
       "</div>"
      ],
      "text/plain": [
       "   from df     linear  difference\n",
       "0       77  78.054044    1.054044\n",
       "1       58  54.686064   -3.313936\n",
       "2       53  54.686064    1.686064\n",
       "3       68  72.490239    4.490239\n",
       "4       59  50.235021   -8.764979"
      ]
     },
     "execution_count": 30,
     "metadata": {},
     "output_type": "execute_result"
    }
   ],
   "source": [
    "df11 = pd.DataFrame(data={'from df': df.weight, 'linear': y_, 'difference':y_ - df.weight})\n",
    "df11.head(5)"
   ]
  },
  {
   "cell_type": "code",
   "execution_count": 31,
   "metadata": {},
   "outputs": [
    {
     "data": {
      "image/png": "[encoded data removed]",
      "text/plain": [
       "<Figure size 432x288 with 1 Axes>"
      ]
     },
     "metadata": {
      "needs_background": "light"
     },
     "output_type": "display_data"
    }
   ],
   "source": [
    "import matplotlib.pyplot as plt\n",
    "def print_plot():\n",
    "    plt.plot()\n",
    "    plt.scatter(df.height[df.sex=='M'], df.weight[df.sex=='M'], color='blue', marker='o', s=10)\n",
    "    plt.scatter(df.height[df.sex=='F'], df.weight[df.sex=='F'], color='red', marker='o', s=10)\n",
    "\n",
    "    xt = np.arange(min(df.height), max(df.height), 1)\n",
    "    yt =  w0*xt + w1\n",
    "\n",
    "    plt.scatter(xt, yt, color='black', s=5)\n",
    "    plt.show()\n",
    "print_plot()"
   ]
  },
  {
   "cell_type": "code",
   "execution_count": 32,
   "metadata": {},
   "outputs": [],
   "source": [
    "w = 1\n",
    "b = 0\n",
    "w_graph = []\n",
    "b_graph = []\n",
    "\n",
    "def gradient(x,y):\n",
    "    w = 1\n",
    "    b = 0\n",
    "    alpha = 0.0001\n",
    "\n",
    "    N = len(x)\n",
    "\n",
    "    #w_graph = []\n",
    "    #b_graph = []\n",
    "    w_graph.clear()\n",
    "    b_graph.clear()\n",
    "\n",
    "    max_norm = 5\n",
    "    for t in range(10000):\n",
    "        l = (1/N * np.sum((y - w * x - b)**2))\n",
    "        d_yh = (w * x + b - y)\n",
    "\n",
    "        d_w = np.mean(d_yh * x)\n",
    "        d_b = np.mean(d_yh)\n",
    "\n",
    "        norm = np.sqrt(d_w**2 + d_b**2)\n",
    "\n",
    "  \n",
    "        if t % 500 == 0: #Специально урезано чтобы не забивало файл\n",
    "            print(\"w,b = \",w,b)\n",
    "            print(\"L = \", l)\n",
    "            print(\"d_w, d_b\", d_w, d_b)\n",
    "            print(\"------------------\")\n",
    "        \n",
    "        if norm > max_norm:\n",
    "            reciprocal = norm / max_norm\n",
    "            d_w /= reciprocal\n",
    "            d_b /= reciprocal\n",
    "        w = w - alpha * d_w\n",
    "        b = b - alpha * d_b\n",
    "\n",
    "        w_graph.append(w)\n",
    "        b_graph.append(b)\n",
    "    return w,b"
   ]
  },
  {
   "cell_type": "code",
   "execution_count": 33,
   "metadata": {},
   "outputs": [],
   "source": [
    "def graph_diff(w,b):\n",
    "    w0 = w\n",
    "    w1 = b\n",
    "\n",
    "    plt.plot()\n",
    "    plt.scatter(df.height[df.sex=='M'], df.weight[df.sex=='M'], color='blue', marker='o', s=10)\n",
    "    plt.scatter(df.height[df.sex=='F'], df.weight[df.sex=='F'], color='red', marker='o', s=10)\n",
    "    xt = np.arange(min(df.height), max(df.height), 1)\n",
    "    yt = w0*xt + w1\n",
    "    plt.scatter(xt, yt, color='green', s=5)\n",
    "\n",
    "    w0 = regressor.coef_[0]\n",
    "    w1 = regressor.intercept_\n",
    "\n",
    "\n",
    "    xt = np.arange(min(df.height), max(df.height), 1)\n",
    "    yt = w0*xt + w1\n",
    "    plt.scatter(xt, yt, color='black', s=5)\n",
    "\n",
    "    plt.show()"
   ]
  },
  {
   "cell_type": "code",
   "execution_count": 34,
   "metadata": {},
   "outputs": [
    {
     "name": "stdout",
     "output_type": "stream",
     "text": [
      "w,b =  1 0\n",
      "L =  11133.241573033707\n",
      "d_w, d_b 17961.494382022473 105.20786516853933\n",
      "------------------\n",
      "w,b =  0.750004296360667 -0.001465660615007087\n",
      "L =  3980.847876068408\n",
      "d_w, d_b 10647.588825700868 62.504886173934025\n",
      "------------------\n",
      "w,b =  0.5000086360055188 -0.002938678797189977\n",
      "L =  485.46928426431225\n",
      "d_w, d_b 3333.6832789248365 19.801907215089283\n",
      "------------------\n",
      "w,b =  0.38586837931600043 -0.01014889561610833\n",
      "L =  105.58569466235242\n",
      "d_w, d_b -6.735607593369353 0.2985151758652227\n",
      "------------------\n",
      "w,b =  0.38591862165528606 -0.02171292578279968\n",
      "L =  105.57812285389141\n",
      "d_w, d_b -7.241002046649293 0.2955329888650562\n",
      "------------------\n",
      "w,b =  0.38598401219102274 -0.03325898208824362\n",
      "L =  105.57035186834159\n",
      "d_w, d_b -7.300164043442616 0.29515622384353046\n",
      "------------------\n",
      "w,b =  0.3860511783902479 -0.04480365256048722\n",
      "L =  105.56255662056334\n",
      "d_w, d_b -7.30714207264931 0.2950841439400548\n",
      "------------------\n",
      "w,b =  0.3861185485957836 -0.05634723792327103\n",
      "L =  105.55475975696903\n",
      "d_w, d_b -7.3079665255762105 0.29504799525765013\n",
      "------------------\n",
      "w,b =  0.38618593735742296 -0.06788975097827646\n",
      "L =  105.54696397831802\n",
      "d_w, d_b -7.308064957589939 0.2950160884323255\n",
      "------------------\n",
      "w,b =  0.38625332279493513 -0.07943119300680945\n",
      "L =  105.53916960342899\n",
      "d_w, d_b -7.308077696406614 0.29498468484266993\n",
      "------------------\n",
      "w,b =  0.386320702326398 -0.09097156424330063\n",
      "L =  105.53137666969972\n",
      "d_w, d_b -7.308080316520166 0.29495334323874367\n",
      "------------------\n",
      "w,b =  0.38638807564747096 -0.10251086480297898\n",
      "L =  105.52358518130922\n",
      "d_w, d_b -7.308081741133264 0.294922011521218\n",
      "------------------\n",
      "w,b =  0.3864554427227165 -0.11404909478705305\n",
      "L =  105.51579513851456\n",
      "d_w, d_b -7.308083024264326 0.2948906835358236\n",
      "------------------\n",
      "w,b =  0.38652280354845914 -0.1255862542950684\n",
      "L =  105.5080065411096\n",
      "d_w, d_b -7.3080842904417045 0.2948593585552198\n",
      "------------------\n",
      "w,b =  0.38659015812477543 -0.13712234342636653\n",
      "L =  105.50021938883347\n",
      "d_w, d_b -7.3080855543953165 0.294828036493134\n",
      "------------------\n",
      "w,b =  0.38665750645218583 -0.1486573622802563\n",
      "L =  105.49243368141886\n",
      "d_w, d_b -7.30808681786017 0.29479671733916657\n",
      "------------------\n",
      "w,b =  0.38672484853126304 -0.16019131095603487\n",
      "L =  105.48464941859787\n",
      "d_w, d_b -7.308088081043974 0.2947654010918368\n",
      "------------------\n",
      "w,b =  0.3867921843625858 -0.17172418955298893\n",
      "L =  105.47686660010238\n",
      "d_w, d_b -7.308089343975006 0.29473408775070764\n",
      "------------------\n",
      "w,b =  0.38685951394673374 -0.18325599817039692\n",
      "L =  105.4690852256645\n",
      "d_w, d_b -7.308090606652187 0.29470277731551714\n",
      "------------------\n",
      "w,b =  0.38692683728428645 -0.19478673690752782\n",
      "L =  105.46130529501623\n",
      "d_w, d_b -7.308091869078065 0.2946714697859816\n",
      "------------------\n"
     ]
    }
   ],
   "source": [
    "w,b = gradient(df.height,df.weight)"
   ]
  },
  {
   "cell_type": "code",
   "execution_count": 35,
   "metadata": {},
   "outputs": [
    {
     "data": {
      "image/png": "[encoded data removed]",
      "text/plain": [
       "<Figure size 432x288 with 1 Axes>"
      ]
     },
     "metadata": {
      "needs_background": "light"
     },
     "output_type": "display_data"
    }
   ],
   "source": [
    "graph_diff(w,b)"
   ]
  },
  {
   "cell_type": "markdown",
   "metadata": {},
   "source": [
    "Отобразим поведение величин w и b со временем:"
   ]
  },
  {
   "cell_type": "code",
   "execution_count": 36,
   "metadata": {},
   "outputs": [
    {
     "data": {
      "text/plain": [
       "0.3869941543758231"
      ]
     },
     "execution_count": 36,
     "metadata": {},
     "output_type": "execute_result"
    },
    {
     "data": {
      "image/png": "[encoded data removed]",
      "text/plain": [
       "<Figure size 432x288 with 1 Axes>"
      ]
     },
     "metadata": {
      "needs_background": "light"
     },
     "output_type": "display_data"
    }
   ],
   "source": [
    "x = np.linspace(0, len(w_graph),len(w_graph))\n",
    "y = w_graph\n",
    "plt.plot(x, y)\n",
    "w"
   ]
  },
  {
   "cell_type": "code",
   "execution_count": 37,
   "metadata": {},
   "outputs": [
    {
     "data": {
      "text/plain": [
       "-0.206316405863641"
      ]
     },
     "execution_count": 37,
     "metadata": {},
     "output_type": "execute_result"
    },
    {
     "data": {
      "image/png": "[encoded data removed]",
      "text/plain": [
       "<Figure size 432x288 with 1 Axes>"
      ]
     },
     "metadata": {
      "needs_background": "light"
     },
     "output_type": "display_data"
    }
   ],
   "source": [
    "x = np.linspace(0, len(b_graph),len(b_graph))\n",
    "y = b_graph\n",
    "plt.plot(x, y)\n",
    "b"
   ]
  },
  {
   "cell_type": "markdown",
   "metadata": {},
   "source": [
    "И, соответственно, нормализуя:"
   ]
  },
  {
   "cell_type": "code",
   "execution_count": 38,
   "metadata": {},
   "outputs": [
    {
     "name": "stdout",
     "output_type": "stream",
     "text": [
      "w,b =  1 0\n",
      "L =  0.4387023961779703\n",
      "d_w, d_b 0.21935119808898534 -1.6503652377293058e-15\n",
      "------------------\n",
      "w,b =  0.9893001068201506 8.202308994306644e-17\n",
      "L =  0.4341221719257773\n",
      "d_w, d_b 0.20871141666857349 -1.5879931576941846e-15\n",
      "------------------\n",
      "w,b =  0.979119219351906 1.5876582196243951e-16\n",
      "L =  0.4299755051965279\n",
      "d_w, d_b 0.19858772519734166 -1.5075331744488784e-15\n",
      "------------------\n",
      "w,b =  0.9694321628646249 2.3059481914456583e-16\n",
      "L =  0.42622135605083167\n",
      "d_w, d_b 0.18895509037571917 -1.3983820343874163e-15\n",
      "------------------\n",
      "w,b =  0.9602149837453708 2.991733577477422e-16\n",
      "L =  0.42282256933167733\n",
      "d_w, d_b 0.17978969316162954 -1.3291490255484318e-15\n",
      "------------------\n",
      "w,b =  0.951444890267756 3.633061392301749e-16\n",
      "L =  0.41974550693645\n",
      "d_w, d_b 0.1710688698720912 -1.2524313671052328e-15\n",
      "------------------\n",
      "w,b =  0.9431001962338231 4.232232541951134e-16\n",
      "L =  0.416959714897554\n",
      "d_w, d_b 0.16277105614171972 -1.1520123182486877e-15\n",
      "------------------\n",
      "w,b =  0.9351602673496373 4.808416461503588e-16\n",
      "L =  0.4144376219767181\n",
      "d_w, d_b 0.15487573359957996 -1.1651104550560632e-15\n",
      "------------------\n",
      "w,b =  0.9276054702019423 5.355561811754088e-16\n",
      "L =  0.412154266789928\n",
      "d_w, d_b 0.14736337913248984 -1.0715523350033815e-15\n",
      "------------------\n",
      "w,b =  0.9204171237097586 5.865127360062621e-16\n",
      "L =  0.41008705076233065\n",
      "d_w, d_b 0.1402154166093634 -9.55540266138056e-16\n",
      "------------------\n",
      "w,b =  0.913577452930848 6.340460615964681e-16\n",
      "L =  0.40821551446807475\n",
      "d_w, d_b 0.1334141709471883 -9.37452362927871e-16\n",
      "------------------\n",
      "w,b =  0.9070695451088268 6.791829894996447e-16\n",
      "L =  0.4065211351415038\n",
      "d_w, d_b 0.12694282440506605 -9.118798101134713e-16\n",
      "------------------\n",
      "w,b =  0.9008773078522452 7.226227731050648e-16\n",
      "L =  0.40498714335565283\n",
      "d_w, d_b 0.12078537499824046 -8.170742484600871e-16\n",
      "------------------\n",
      "w,b =  0.8949854293422184 7.63007572230366e-16\n",
      "L =  0.40359835705369707\n",
      "d_w, d_b 0.11492659692928134 -7.964914620484971e-16\n",
      "------------------\n",
      "w,b =  0.8893793404702168 8.006228638858677e-16\n",
      "L =  0.40234103129074966\n",
      "d_w, d_b 0.10935200293858308 -7.203975244056493e-16\n",
      "------------------\n",
      "w,b =  0.8840451788123863 8.360155888413973e-16\n",
      "L =  0.40120272219888675\n",
      "d_w, d_b 0.10404780848107748 -7.04804504396869e-16\n",
      "------------------\n",
      "w,b =  0.8789697543513206 8.687710975088818e-16\n",
      "L =  0.4001721638290491\n",
      "d_w, d_b 0.09900089764057958 -6.648863731743915e-16\n",
      "------------------\n",
      "w,b =  0.8741405168605187 9.005205445253988e-16\n",
      "L =  0.39923915665091564\n",
      "d_w, d_b 0.09419879069747877 -6.168598715473483e-16\n",
      "------------------\n",
      "w,b =  0.869545524870892 9.31412562557673e-16\n",
      "L =  0.39839446660722116\n",
      "d_w, d_b 0.08962961326959146 -6.199784755491042e-16\n",
      "------------------\n",
      "w,b =  0.8651734161425559 9.602468009254294e-16\n",
      "L =  0.3976297337234459\n",
      "d_w, d_b 0.08528206694984165 -5.532403499115246e-16\n",
      "------------------\n"
     ]
    }
   ],
   "source": [
    "weight_norm = (df.weight - df.weight.mean()) / df.weight.std()\n",
    "height_norm = (df.height - df.height.mean()) / df.height.std()\n",
    "\n",
    "w,b = gradient(height_norm,weight_norm)\n",
    "w = w * df.weight.std() / df.height.std()\n",
    "b = df.weight.mean() + b * df.weight.std() - w * df.height.mean()"
   ]
  },
  {
   "cell_type": "code",
   "execution_count": 39,
   "metadata": {},
   "outputs": [
    {
     "data": {
      "image/png": "[encoded data removed]",
      "text/plain": [
       "<Figure size 432x288 with 1 Axes>"
      ]
     },
     "metadata": {
      "needs_background": "light"
     },
     "output_type": "display_data"
    }
   ],
   "source": [
    "graph_diff(w,b)"
   ]
  },
  {
   "cell_type": "markdown",
   "metadata": {},
   "source": [
    "Ещё немного графиков (процесса):"
   ]
  },
  {
   "cell_type": "code",
   "execution_count": 40,
   "metadata": {},
   "outputs": [
    {
     "data": {
      "text/plain": [
       "1.2292665176968847"
      ]
     },
     "execution_count": 40,
     "metadata": {},
     "output_type": "execute_result"
    },
    {
     "data": {
      "image/png": "[encoded data removed]",
      "text/plain": [
       "<Figure size 432x288 with 1 Axes>"
      ]
     },
     "metadata": {
      "needs_background": "light"
     },
     "output_type": "display_data"
    }
   ],
   "source": [
    "x = np.linspace(0, len(w_graph),len(w_graph))\n",
    "y = w_graph\n",
    "plt.plot(x, y)\n",
    "w"
   ]
  },
  {
   "cell_type": "code",
   "execution_count": 41,
   "metadata": {},
   "outputs": [
    {
     "data": {
      "text/plain": [
       "[<matplotlib.lines.Line2D at 0x158fdb09e20>]"
      ]
     },
     "execution_count": 41,
     "metadata": {},
     "output_type": "execute_result"
    },
    {
     "data": {
      "image/png": "[encoded data removed]",
      "text/plain": [
       "<Figure size 432x288 with 1 Axes>"
      ]
     },
     "metadata": {
      "needs_background": "light"
     },
     "output_type": "display_data"
    }
   ],
   "source": [
    "x = np.linspace(0, len(b_graph),len(b_graph))\n",
    "y = b_graph\n",
    "plt.plot(x, y)"
   ]
  },
  {
   "cell_type": "markdown",
   "metadata": {},
   "source": [
    "Часть 2"
   ]
  },
  {
   "cell_type": "code",
   "execution_count": 42,
   "metadata": {},
   "outputs": [],
   "source": [
    "w1 = 1\n",
    "w2 = 1\n",
    "b = 0\n",
    "alpha = 0.0001"
   ]
  },
  {
   "cell_type": "code",
   "execution_count": 43,
   "metadata": {},
   "outputs": [],
   "source": [
    "y = weight_norm\n",
    "x1 = height_norm\n",
    "N = len(x1)"
   ]
  },
  {
   "cell_type": "markdown",
   "metadata": {},
   "source": [
    "Дальше надо привести к бинарному виду столбец с полами.  \n",
    "Учитывая, что у нас ключевой \"М\", то примем его равным 1. "
   ]
  },
  {
   "cell_type": "code",
   "execution_count": 44,
   "metadata": {},
   "outputs": [],
   "source": [
    "x2 = df.sex\n",
    "x2 = pd.get_dummies(x2)\n",
    "x2 = x2.M"
   ]
  },
  {
   "cell_type": "code",
   "execution_count": null,
   "metadata": {},
   "outputs": [
    {
     "name": "stdout",
     "output_type": "stream",
     "text": [
      "w1,w2,b =  1 1 0\n",
      "L =  0.9226941151516602\n",
      "d_w, d_b 0.5848952290917332 0.4695239493744854 0.45505617977527907\n",
      "------------------\n",
      "w1,w2,b =  0.9716749207367211 0.9772977109779389 -0.02193807029659751\n",
      "L =  0.8507120751190073\n",
      "d_w, d_b 0.5484305932451232 0.43885601434676963 0.42278729256414854\n",
      "------------------\n",
      "w1,w2,b =  0.9451151282064317 0.9560776325557646 -0.04231903180064411\n",
      "L =  0.7878483319451264\n",
      "d_w, d_b 0.5142631400277838 0.41021643041914596 0.3927500032387753\n",
      "------------------\n",
      "w1,w2,b =  0.920209455906355 0.9362417355404987 -0.06125061897546078\n",
      "L =  0.732944617001286\n",
      "d_w, d_b 0.4822464934814946 0.38347092731670473 0.3647919685457757\n",
      "------------------\n",
      "w1,w2,b =  0.8968538186351451 0.9176984799280092 -0.07883320934393723\n",
      "L =  0.6849900934082368\n",
      "d_w, d_b 0.45224369125112523 0.3584941240587002 0.33877115511768335\n",
      "------------------\n",
      "w1,w2,b =  0.8749507571978798 0.9003623852904198 -0.09516032148000006\n",
      "L =  0.6431025613171563\n",
      "d_w, d_b 0.4241265748051412 0.33516894041621775 0.31455514598361634\n",
      "------------------\n",
      "w1,w2,b =  0.854409012597839 0.8841536296072521 -0.11031907949780415\n",
      "L =  0.6065120618923826\n",
      "d_w, d_b 0.3977752193746877 0.3133860473374769 0.2920204935257192\n",
      "------------------\n"
     ]
    }
   ],
   "source": [
    "w1_graph = []\n",
    "w2_graph = []\n",
    "b_graph = []\n",
    "\n",
    "max_norm = 5\n",
    "for t in range(10000):\n",
    "    l = (1/N * np.sum((y - w1 * x1 - w2 * x2 - b)**2))\n",
    "    d_yh = (w1 * x1 + w2 * x2 + b - y)\n",
    "    \n",
    "    d_w1 = np.mean(d_yh * x1)\n",
    "    d_w2 = np.mean(d_yh * x2)\n",
    "    d_b = np.mean(d_yh)\n",
    "    \n",
    "    norm = np.sqrt(d_w1**2 + d_w2**2 + d_b**2)\n",
    "\n",
    "        \n",
    "    if t % 500 == 0:\n",
    "        print(\"w1,w2,b = \",w1,w2,b)\n",
    "        print(\"L = \", l)\n",
    "        print(\"d_w, d_b\", d_w1, d_w2, d_b)\n",
    "        print(\"------------------\")\n",
    "\n",
    "    if norm > max_norm:\n",
    "        reciprocal = norm / max_norm\n",
    "        d_w1 /= reciprocal\n",
    "        d_w2 /= reciprocal\n",
    "        d_b /= reciprocal\n",
    "    w1 = w1 - alpha * d_w1\n",
    "    w2 = w2 - alpha * d_w2\n",
    "    b = b - alpha * d_b\n",
    "    \n",
    "    w1_graph.append(w1)\n",
    "    w2_graph.append(w2)\n",
    "    b_graph.append(b)"
   ]
  },
  {
   "cell_type": "code",
   "execution_count": null,
   "metadata": {},
   "outputs": [],
   "source": [
    "print(w1,w2,b)"
   ]
  },
  {
   "cell_type": "markdown",
   "metadata": {},
   "source": [
    "И для сравнения, так же натренируем модель через LinearRegression()  "
   ]
  },
  {
   "cell_type": "code",
   "execution_count": null,
   "metadata": {},
   "outputs": [],
   "source": [
    "df11 = pd.DataFrame(data={'weight': weight_norm, 'height': height_norm, 'sexM': x2})\n",
    "w_x1 = df11.weight.values.reshape(-1,1)\n",
    "w_x2 = df11.sexM.values.reshape(-1,1)\n",
    "w_y = df11.height.values.reshape(-1,1)\n",
    "\n",
    "x = np.column_stack((w_x1,w_x2))"
   ]
  },
  {
   "cell_type": "code",
   "execution_count": null,
   "metadata": {},
   "outputs": [],
   "source": [
    "regressor = LinearRegression()  \n",
    "regressor.fit(x,w_y)\n",
    "print(regressor.intercept_)\n",
    "print(regressor.coef_)"
   ]
  },
  {
   "cell_type": "code",
   "execution_count": null,
   "metadata": {},
   "outputs": [],
   "source": []
  }
 ],
 "metadata": {
  "kernelspec": {
   "display_name": "Python 3",
   "language": "python",
   "name": "python3"
  },
  "language_info": {
   "codemirror_mode": {
    "name": "ipython",
    "version": 3
   },
   "file_extension": ".py",
   "mimetype": "text/x-python",
   "name": "python",
   "nbconvert_exporter": "python",
   "pygments_lexer": "ipython3",
   "version": "3.8.3"
  }
 },
 "nbformat": 4,
 "nbformat_minor": 4
}
